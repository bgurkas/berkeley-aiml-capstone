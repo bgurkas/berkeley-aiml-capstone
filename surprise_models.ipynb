{
 "cells": [
  {
   "cell_type": "code",
   "execution_count": null,
   "metadata": {},
   "outputs": [],
   "source": [
    "from surprise import Dataset\n",
    "from surprise import Reader\n",
    "reader = Reader(rating_scale=(0, 5))\n",
    "raw = Dataset.load_builtin(\"ml-100k\")"
   ]
  },
  {
   "cell_type": "markdown",
   "metadata": {},
   "source": [
    "## Co-Clustering\n",
    "Using GridSearchCV to find a good combination of parameters."
   ]
  },
  {
   "cell_type": "code",
   "execution_count": 3,
   "metadata": {},
   "outputs": [],
   "source": [
    "from surprise import CoClustering\n",
    "from surprise.model_selection import GridSearchCV\n",
    "ccparams = {\"n_cltr_u\": list(range(1, 6)), \"n_cltr_i\": list(range(1, 6))}\n",
    "ccgrid = GridSearchCV(CoClustering, ccparams, cv=5)\n",
    "ccgrid.fit(raw)"
   ]
  },
  {
   "cell_type": "code",
   "execution_count": 4,
   "metadata": {},
   "outputs": [
    {
     "data": {
      "text/plain": [
       "{'rmse': {'n_cltr_u': 5, 'n_cltr_i': 2}, 'mae': {'n_cltr_u': 5, 'n_cltr_i': 2}}"
      ]
     },
     "execution_count": 4,
     "metadata": {},
     "output_type": "execute_result"
    }
   ],
   "source": [
    "ccgrid.best_params"
   ]
  },
  {
   "cell_type": "code",
   "execution_count": 5,
   "metadata": {},
   "outputs": [
    {
     "data": {
      "text/plain": [
       "{'rmse': <surprise.prediction_algorithms.co_clustering.CoClustering at 0x72ab41940dd0>,\n",
       " 'mae': <surprise.prediction_algorithms.co_clustering.CoClustering at 0x72ab75891610>}"
      ]
     },
     "execution_count": 5,
     "metadata": {},
     "output_type": "execute_result"
    }
   ],
   "source": [
    "ccgrid.best_estimator"
   ]
  },
  {
   "cell_type": "code",
   "execution_count": 6,
   "metadata": {},
   "outputs": [
    {
     "name": "stdout",
     "output_type": "stream",
     "text": [
      "Evaluating RMSE, MAE of algorithm CoClustering on 5 split(s).\n",
      "\n",
      "                  Fold 1  Fold 2  Fold 3  Fold 4  Fold 5  Mean    Std     \n",
      "RMSE (testset)    0.9489  0.9488  0.9602  0.9635  0.9507  0.9544  0.0062  \n",
      "MAE (testset)     0.7445  0.7382  0.7530  0.7540  0.7432  0.7466  0.0060  \n",
      "Fit time          2.18    2.22    2.40    2.09    2.25    2.23    0.10    \n",
      "Test time         0.16    0.18    0.31    0.19    0.16    0.20    0.06    \n"
     ]
    },
    {
     "data": {
      "text/plain": [
       "{'test_rmse': array([0.94892456, 0.94882581, 0.96015476, 0.96350833, 0.95071085]),\n",
       " 'test_mae': array([0.74447682, 0.73819899, 0.75296697, 0.75395385, 0.743239  ]),\n",
       " 'fit_time': (2.1805832386016846,\n",
       "  2.216141939163208,\n",
       "  2.4029719829559326,\n",
       "  2.0935311317443848,\n",
       "  2.2541615962982178),\n",
       " 'test_time': (0.15508341789245605,\n",
       "  0.17817902565002441,\n",
       "  0.31122422218322754,\n",
       "  0.1940610408782959,\n",
       "  0.15544629096984863)}"
      ]
     },
     "execution_count": 6,
     "metadata": {},
     "output_type": "execute_result"
    }
   ],
   "source": [
    "rmse = ccgrid.best_estimator['rmse']\n",
    "mae = ccgrid.best_estimator['mae']\n",
    "from surprise.model_selection import cross_validate\n",
    "cross_validate(rmse, raw, measures=[\"RMSE\", \"MAE\"], cv=5, verbose=True)"
   ]
  },
  {
   "cell_type": "code",
   "execution_count": 7,
   "metadata": {},
   "outputs": [
    {
     "name": "stdout",
     "output_type": "stream",
     "text": [
      "Evaluating RMSE, MAE of algorithm CoClustering on 5 split(s).\n",
      "\n",
      "                  Fold 1  Fold 2  Fold 3  Fold 4  Fold 5  Mean    Std     \n",
      "RMSE (testset)    0.9505  0.9458  0.9555  0.9778  0.9560  0.9571  0.0110  \n",
      "MAE (testset)     0.7439  0.7408  0.7473  0.7664  0.7459  0.7489  0.0090  \n",
      "Fit time          2.24    2.19    2.13    2.17    2.31    2.21    0.06    \n",
      "Test time         0.17    0.16    0.27    0.16    0.18    0.19    0.04    \n"
     ]
    },
    {
     "data": {
      "text/plain": [
       "{'test_rmse': array([0.95048057, 0.94584899, 0.95550953, 0.97783352, 0.95602211]),\n",
       " 'test_mae': array([0.74387804, 0.7408266 , 0.74734955, 0.76642007, 0.7458593 ]),\n",
       " 'fit_time': (2.235046625137329,\n",
       "  2.194749355316162,\n",
       "  2.132270097732544,\n",
       "  2.1661503314971924,\n",
       "  2.305774211883545),\n",
       " 'test_time': (0.17203807830810547,\n",
       "  0.15787315368652344,\n",
       "  0.27431535720825195,\n",
       "  0.1592111587524414,\n",
       "  0.17817354202270508)}"
      ]
     },
     "execution_count": 7,
     "metadata": {},
     "output_type": "execute_result"
    }
   ],
   "source": [
    "cross_validate(mae, raw, measures=[\"RMSE\", \"MAE\"], cv=5, verbose=True)"
   ]
  },
  {
   "cell_type": "markdown",
   "metadata": {},
   "source": [
    "## KNN with Means"
   ]
  },
  {
   "cell_type": "code",
   "execution_count": 12,
   "metadata": {},
   "outputs": [],
   "source": [
    "from surprise import KNNWithMeans\n",
    "knn = KNNWithMeans()"
   ]
  },
  {
   "cell_type": "code",
   "execution_count": 13,
   "metadata": {},
   "outputs": [
    {
     "name": "stdout",
     "output_type": "stream",
     "text": [
      "Computing the msd similarity matrix...\n",
      "Done computing similarity matrix.\n",
      "Computing the msd similarity matrix...\n",
      "Done computing similarity matrix.\n",
      "Computing the msd similarity matrix...\n",
      "Done computing similarity matrix.\n",
      "Computing the msd similarity matrix...\n",
      "Done computing similarity matrix.\n",
      "Computing the msd similarity matrix...\n",
      "Done computing similarity matrix.\n",
      "Evaluating RMSE, MAE of algorithm KNNWithMeans on 5 split(s).\n",
      "\n",
      "                  Fold 1  Fold 2  Fold 3  Fold 4  Fold 5  Mean    Std     \n",
      "RMSE (testset)    0.9522  0.9523  0.9417  0.9572  0.9504  0.9508  0.0051  \n",
      "MAE (testset)     0.7499  0.7491  0.7437  0.7534  0.7503  0.7493  0.0032  \n",
      "Fit time          0.61    0.48    0.46    0.56    0.52    0.53    0.05    \n",
      "Test time         4.08    4.32    4.61    3.97    4.27    4.25    0.22    \n"
     ]
    },
    {
     "data": {
      "text/plain": [
       "{'test_rmse': array([0.95221755, 0.95230211, 0.94169482, 0.9571584 , 0.95039039]),\n",
       " 'test_mae': array([0.7499    , 0.74907718, 0.74367276, 0.75343872, 0.75028468]),\n",
       " 'fit_time': (0.6090817451477051,\n",
       "  0.48448610305786133,\n",
       "  0.45854878425598145,\n",
       "  0.5571496486663818,\n",
       "  0.5180301666259766),\n",
       " 'test_time': (4.08277440071106,\n",
       "  4.316580295562744,\n",
       "  4.605699300765991,\n",
       "  3.9686379432678223,\n",
       "  4.270847320556641)}"
      ]
     },
     "execution_count": 13,
     "metadata": {},
     "output_type": "execute_result"
    }
   ],
   "source": [
    "cross_validate(knn, raw, measures=[\"RMSE\", \"MAE\"], cv=5, verbose=True)"
   ]
  },
  {
   "cell_type": "markdown",
   "metadata": {},
   "source": [
    "## SVD\n",
    "Using GridSearchCV to find a good combination of parameters. "
   ]
  },
  {
   "cell_type": "code",
   "execution_count": 14,
   "metadata": {},
   "outputs": [],
   "source": [
    "import numpy as np\n",
    "from surprise import SVD\n",
    "svdparams = {\"n_factors\": np.arange(1, 100, 20), \"n_epochs\": np.arange(10, 40, 10), \"biased\": [\"True\", \"False\"], \"lr_all\": np.linspace(0.001, 0.05, 5)}\n",
    "svdgrid = GridSearchCV(SVD, svdparams, cv=5)\n",
    "svdgrid.fit(raw)"
   ]
  },
  {
   "cell_type": "code",
   "execution_count": 15,
   "metadata": {},
   "outputs": [
    {
     "data": {
      "text/plain": [
       "{'rmse': {'n_factors': 1,\n",
       "  'n_epochs': 30,\n",
       "  'biased': 'False',\n",
       "  'lr_all': 0.013250000000000001},\n",
       " 'mae': {'n_factors': 1,\n",
       "  'n_epochs': 30,\n",
       "  'biased': 'False',\n",
       "  'lr_all': 0.013250000000000001}}"
      ]
     },
     "execution_count": 15,
     "metadata": {},
     "output_type": "execute_result"
    }
   ],
   "source": [
    "svdgrid.best_params"
   ]
  },
  {
   "cell_type": "code",
   "execution_count": 17,
   "metadata": {},
   "outputs": [
    {
     "data": {
      "text/plain": [
       "{'rmse': <surprise.prediction_algorithms.matrix_factorization.SVD at 0x72ab717a26d0>,\n",
       " 'mae': <surprise.prediction_algorithms.matrix_factorization.SVD at 0x72ab1b2a3750>}"
      ]
     },
     "execution_count": 17,
     "metadata": {},
     "output_type": "execute_result"
    }
   ],
   "source": [
    "svdgrid.best_estimator"
   ]
  },
  {
   "cell_type": "code",
   "execution_count": 18,
   "metadata": {},
   "outputs": [
    {
     "name": "stdout",
     "output_type": "stream",
     "text": [
      "Evaluating RMSE, MAE of algorithm SVD on 5 split(s).\n",
      "\n",
      "                  Fold 1  Fold 2  Fold 3  Fold 4  Fold 5  Mean    Std     \n",
      "RMSE (testset)    0.9430  0.9299  0.9263  0.9244  0.9126  0.9272  0.0098  \n",
      "MAE (testset)     0.7423  0.7297  0.7273  0.7276  0.7166  0.7287  0.0082  \n",
      "Fit time          0.86    0.89    0.87    0.97    0.85    0.89    0.04    \n",
      "Test time         0.20    0.39    0.21    0.20    0.20    0.24    0.07    \n"
     ]
    },
    {
     "data": {
      "text/plain": [
       "{'test_rmse': array([0.9429702 , 0.9298615 , 0.92625523, 0.92437017, 0.91263989]),\n",
       " 'test_mae': array([0.74227696, 0.72970723, 0.72729536, 0.72762174, 0.71656072]),\n",
       " 'fit_time': (0.8615038394927979,\n",
       "  0.8924663066864014,\n",
       "  0.8694305419921875,\n",
       "  0.9712057113647461,\n",
       "  0.8495841026306152),\n",
       " 'test_time': (0.20369315147399902,\n",
       "  0.3903484344482422,\n",
       "  0.20852971076965332,\n",
       "  0.20216751098632812,\n",
       "  0.19833755493164062)}"
      ]
     },
     "execution_count": 18,
     "metadata": {},
     "output_type": "execute_result"
    }
   ],
   "source": [
    "s_rmse = svdgrid.best_estimator['rmse']\n",
    "s_mae = svdgrid.best_estimator['mae']\n",
    "cross_validate(s_rmse, raw, measures=[\"RMSE\", \"MAE\"], cv=5, verbose=True)"
   ]
  },
  {
   "cell_type": "code",
   "execution_count": 19,
   "metadata": {},
   "outputs": [
    {
     "name": "stdout",
     "output_type": "stream",
     "text": [
      "Evaluating RMSE, MAE of algorithm SVD on 5 split(s).\n",
      "\n",
      "                  Fold 1  Fold 2  Fold 3  Fold 4  Fold 5  Mean    Std     \n",
      "RMSE (testset)    0.9252  0.9254  0.9158  0.9261  0.9200  0.9225  0.0040  \n",
      "MAE (testset)     0.7314  0.7280  0.7187  0.7277  0.7238  0.7259  0.0043  \n",
      "Fit time          1.04    0.94    0.91    0.86    0.88    0.93    0.07    \n",
      "Test time         0.23    0.21    0.20    0.39    0.20    0.25    0.07    \n"
     ]
    },
    {
     "data": {
      "text/plain": [
       "{'test_rmse': array([0.92518352, 0.92543931, 0.91580343, 0.92614976, 0.91999475]),\n",
       " 'test_mae': array([0.73138317, 0.72799225, 0.71873941, 0.72770596, 0.72376721]),\n",
       " 'fit_time': (1.044694185256958,\n",
       "  0.9365847110748291,\n",
       "  0.9054262638092041,\n",
       "  0.8577315807342529,\n",
       "  0.8810992240905762),\n",
       " 'test_time': (0.23189496994018555,\n",
       "  0.2088789939880371,\n",
       "  0.20484590530395508,\n",
       "  0.38657569885253906,\n",
       "  0.1961688995361328)}"
      ]
     },
     "execution_count": 19,
     "metadata": {},
     "output_type": "execute_result"
    }
   ],
   "source": [
    "cross_validate(s_mae, raw, measures=[\"RMSE\", \"MAE\"], cv=5, verbose=True)"
   ]
  },
  {
   "cell_type": "code",
   "execution_count": null,
   "metadata": {},
   "outputs": [],
   "source": []
  }
 ],
 "metadata": {
  "kernelspec": {
   "display_name": "Python 3 (ipykernel)",
   "language": "python",
   "name": "python3"
  },
  "language_info": {
   "codemirror_mode": {
    "name": "ipython",
    "version": 3
   },
   "file_extension": ".py",
   "mimetype": "text/x-python",
   "name": "python",
   "nbconvert_exporter": "python",
   "pygments_lexer": "ipython3",
   "version": "3.11.2"
  }
 },
 "nbformat": 4,
 "nbformat_minor": 2
}
